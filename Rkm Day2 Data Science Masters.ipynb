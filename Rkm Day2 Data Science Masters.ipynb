{
 "cells": [
  {
   "cell_type": "markdown",
   "id": "9cf73baa-74d2-4ca8-ace0-bd883bc5e835",
   "metadata": {},
   "source": [
    "## Print Statement"
   ]
  },
  {
   "cell_type": "code",
   "execution_count": 11,
   "id": "855741d1-ca25-488d-aac4-4a738b1dac23",
   "metadata": {},
   "outputs": [
    {
     "name": "stdout",
     "output_type": "stream",
     "text": [
      "Hello World\n"
     ]
    }
   ],
   "source": [
    "print(\"Hello World\")"
   ]
  },
  {
   "cell_type": "code",
   "execution_count": 12,
   "id": "3828c9fa-82fa-472f-a2e8-751d1aab4e95",
   "metadata": {},
   "outputs": [
    {
     "name": "stdout",
     "output_type": "stream",
     "text": [
      "123\n"
     ]
    }
   ],
   "source": [
    "print(123)"
   ]
  },
  {
   "cell_type": "code",
   "execution_count": 13,
   "id": "ac0f10cc-a140-446c-8c9d-f05220c486aa",
   "metadata": {},
   "outputs": [
    {
     "name": "stdout",
     "output_type": "stream",
     "text": [
      "My age is: 18\n"
     ]
    }
   ],
   "source": [
    "age=18\n",
    "print(\"My age is:\",age)"
   ]
  },
  {
   "cell_type": "code",
   "execution_count": 14,
   "id": "4bd998bf-149b-4ab0-95ed-ec148f29a964",
   "metadata": {},
   "outputs": [
    {
     "name": "stdout",
     "output_type": "stream",
     "text": [
      "My name is Roshan and age is 18 \n"
     ]
    }
   ],
   "source": [
    "## Format()\n",
    "name=\"Roshan\"\n",
    "age=18\n",
    "print(\"My name is {} and age is {} \".format(name,age))"
   ]
  },
  {
   "cell_type": "code",
   "execution_count": 15,
   "id": "18d54c60-95e3-4526-801d-251595dac5d7",
   "metadata": {},
   "outputs": [
    {
     "name": "stdout",
     "output_type": "stream",
     "text": [
      "My name is Roshan and age is 18 \n"
     ]
    }
   ],
   "source": [
    "## Placeholder\n",
    "print(\"My name is {firstname} and age is {firstage} \".format(firstname=name,firstage=age))"
   ]
  },
  {
   "cell_type": "code",
   "execution_count": 8,
   "id": "53cd0fb3-76fa-4bb1-9995-600de2ec6172",
   "metadata": {},
   "outputs": [],
   "source": [
    "name=\"Roshan Kumar Mandal\"\n",
    "age=19\n",
    "degree=\"BS Data Science\"\n",
    "##My age is 19 and I have completed: My degree of BS Data Science with the name of Roshan Kumar Mandal\""
   ]
  },
  {
   "cell_type": "code",
   "execution_count": 9,
   "id": "9457dafa-5225-4a16-a6f4-df92f323f53d",
   "metadata": {},
   "outputs": [
    {
     "name": "stdout",
     "output_type": "stream",
     "text": [
      "My age is 19 and I have completed : my degree of BS Data Science with the name of Roshan Kumar Mandal\n"
     ]
    }
   ],
   "source": [
    "## f string method\n",
    "print(f\"My age is {age} and I have completed : my degree of {degree} with the name of {name}\")"
   ]
  },
  {
   "cell_type": "code",
   "execution_count": 10,
   "id": "7001c99d-8504-4bff-abb6-4d517e6ef532",
   "metadata": {},
   "outputs": [
    {
     "name": "stdout",
     "output_type": "stream",
     "text": [
      "My age is 19 and I have completed : my degree of BS Data Science with the name of Roshan Kumar Mandal\n"
     ]
    }
   ],
   "source": [
    "## fomating mehtod\n",
    "print(\"My age is {} and I have completed : my degree of {} with the name of {}\".format(age,degree,name))"
   ]
  },
  {
   "cell_type": "markdown",
   "id": "cf137abe-dffd-4076-9424-17c343f422c1",
   "metadata": {},
   "source": [
    " # *Control Flow\n",
    "# *Decision Making Statements"
   ]
  },
  {
   "cell_type": "code",
   "execution_count": 5,
   "id": "879c6b1d-d1b2-4879-85be-35602a124e0b",
   "metadata": {},
   "outputs": [
    {
     "name": "stdout",
     "output_type": "stream",
     "text": [
      "You are eligible to vote\n"
     ]
    }
   ],
   "source": [
    "# if statements\n",
    "age=18\n",
    "if age>=18: \n",
    "    print(\"You are eligible to vote\")"
   ]
  },
  {
   "cell_type": "code",
   "execution_count": 4,
   "id": "21230aed-7db9-4832-993d-bb1c50f59026",
   "metadata": {},
   "outputs": [
    {
     "name": "stdout",
     "output_type": "stream",
     "text": [
      "You are not eligible ot vote\n"
     ]
    }
   ],
   "source": [
    "age=17\n",
    "if age<18:\n",
    "    print(\"You are not eligible ot vote\")"
   ]
  },
  {
   "cell_type": "code",
   "execution_count": 3,
   "id": "5fe93e43-6df7-43d8-9d4e-000fa429df42",
   "metadata": {},
   "outputs": [
    {
     "name": "stdin",
     "output_type": "stream",
     "text": [
      "Enter the name Roshan Kumar Mandal\n"
     ]
    },
    {
     "name": "stdout",
     "output_type": "stream",
     "text": [
      "My name is Roshan Kumar Mandal\n"
     ]
    }
   ],
   "source": [
    "## input\n",
    "name=input(\"Enter the name\")\n",
    "print(f\"My name is {name}\")"
   ]
  },
  {
   "cell_type": "code",
   "execution_count": 1,
   "id": "f0bdcef1-ce00-4ad7-a8a0-cc04aecf8ae5",
   "metadata": {},
   "outputs": [
    {
     "name": "stdin",
     "output_type": "stream",
     "text": [
      "Enter the name Roshan Kumar Mandal\n"
     ]
    },
    {
     "name": "stdout",
     "output_type": "stream",
     "text": [
      "My name is Roshan Kumar Mandal\n"
     ]
    }
   ],
   "source": [
    "name=input(\"Enter the name\")\n",
    "print(f\"My name is {name}\")"
   ]
  },
  {
   "cell_type": "code",
   "execution_count": 2,
   "id": "9a32709d-8b40-4715-9fbd-c008e0cbffdf",
   "metadata": {},
   "outputs": [
    {
     "name": "stdin",
     "output_type": "stream",
     "text": [
      " Roshan Kumar Mandal\n"
     ]
    },
    {
     "data": {
      "text/plain": [
       "'Roshan Kumar Mandal'"
      ]
     },
     "execution_count": 2,
     "metadata": {},
     "output_type": "execute_result"
    }
   ],
   "source": [
    "input()"
   ]
  },
  {
   "cell_type": "code",
   "execution_count": 4,
   "id": "37ee8ca5-b814-479b-95ed-1ab593babc36",
   "metadata": {},
   "outputs": [
    {
     "name": "stdin",
     "output_type": "stream",
     "text": [
      "Enter the number 92\n",
      "Enter the number 36\n"
     ]
    },
    {
     "name": "stdout",
     "output_type": "stream",
     "text": [
      "9236\n"
     ]
    }
   ],
   "source": [
    "x=input(\"Enter the number\")\n",
    "y=input(\"Enter the number\")\n",
    "print((x)+(y))"
   ]
  },
  {
   "cell_type": "code",
   "execution_count": 6,
   "id": "e11aebe2-fd1a-44bd-bcc8-ba3d71af2d44",
   "metadata": {},
   "outputs": [
    {
     "name": "stdin",
     "output_type": "stream",
     "text": [
      "Enter the number 5952668\n",
      "Enter the number 1259856\n"
     ]
    },
    {
     "name": "stdout",
     "output_type": "stream",
     "text": [
      "7212524\n"
     ]
    }
   ],
   "source": [
    "x=input(\"Enter the number\")\n",
    "y=input(\"Enter the number\")\n",
    "print(int(x)+int(y))"
   ]
  },
  {
   "cell_type": "code",
   "execution_count": 7,
   "id": "bd587c14-6a54-4ee8-a232-ee146d30f400",
   "metadata": {},
   "outputs": [],
   "source": [
    "## Task\n",
    "## Take a input of age \n",
    "## check whether age >=18 and age <=45\n",
    "## display a message you are young blooded"
   ]
  },
  {
   "cell_type": "code",
   "execution_count": 9,
   "id": "c8b0322b-7672-46f7-ae16-d9b1083338f5",
   "metadata": {},
   "outputs": [
    {
     "name": "stdin",
     "output_type": "stream",
     "text": [
      "Enter the age 45\n"
     ]
    },
    {
     "name": "stdout",
     "output_type": "stream",
     "text": [
      "You are young blooded\n"
     ]
    }
   ],
   "source": [
    "age=int(input(\"Enter the age\"))\n",
    "if age>=18 and age<=45:\n",
    "    print(\"You are young blooded\")"
   ]
  },
  {
   "cell_type": "code",
   "execution_count": 11,
   "id": "a5a4f1b8-8dd7-41bf-8c7c-9f163fd3fb27",
   "metadata": {},
   "outputs": [
    {
     "name": "stdin",
     "output_type": "stream",
     "text": [
      "Enter the age 56\n"
     ]
    },
    {
     "name": "stdout",
     "output_type": "stream",
     "text": [
      "Thaku you your application is rejected\n"
     ]
    }
   ],
   "source": [
    "## if else statements\n",
    "age=int(input(\"Enter the age\"))\n",
    "if age>=18 and age<=45:\n",
    "    print(\"You are young blooded\")\n",
    "else:\n",
    "    print(\"Thaku you your application is rejected\")"
   ]
  },
  {
   "cell_type": "code",
   "execution_count": null,
   "id": "ce3f7123-2a3b-477b-ad43-1fcf1723543f",
   "metadata": {},
   "outputs": [],
   "source": [
    "## Mall:\n",
    "## product >1000 rs 20% off\n",
    "## print product prize after discount\n",
    "## product <=1000rs 30% off\n",
    "## print product prize after discount"
   ]
  },
  {
   "cell_type": "code",
   "execution_count": 14,
   "id": "23c25fdc-cfd5-4403-8b30-5db1be8fad35",
   "metadata": {},
   "outputs": [
    {
     "name": "stdin",
     "output_type": "stream",
     "text": [
      "Enter the prize 10\n"
     ]
    },
    {
     "name": "stdout",
     "output_type": "stream",
     "text": [
      "The prize of the product is 7.0\n"
     ]
    }
   ],
   "source": [
    "product_prize=int(input(\"Enter the prize\"))\n",
    "if product_prize>1000:\n",
    "    print(\"The prize of the product is {}\".format(product_prize*0.8))\n",
    "else:\n",
    "    print(\"The prize of the product is {}\".format(product_prize*0.7))"
   ]
  },
  {
   "cell_type": "code",
   "execution_count": 18,
   "id": "01a9ef30-ddec-41f1-92e2-5c44ef1ccf47",
   "metadata": {},
   "outputs": [
    {
     "name": "stdin",
     "output_type": "stream",
     "text": [
      "Enter  the prize 1200\n"
     ]
    },
    {
     "name": "stdout",
     "output_type": "stream",
     "text": [
      "The prize of the product is 960.0\n"
     ]
    }
   ],
   "source": [
    "product_prize=int(input(\"Enter  the prize\"))\n",
    "if product_prize>1000:\n",
    "    print(f\"The prize of the product is {product_prize*0.8}\")\n",
    "else:\n",
    "    print(f\"The prize of the product is {product_prize*0.7}\")"
   ]
  },
  {
   "cell_type": "code",
   "execution_count": null,
   "id": "3ed7c8ef-ecbf-45c0-8199-5b68454ccdce",
   "metadata": {},
   "outputs": [],
   "source": [
    "## Mall: input the product peice\n",
    "## product >3000 rs 20% off\n",
    "## product prize==4000 you ger a trip to Goa\n",
    "## print product prize after discount\n",
    "## product >=2000 rs and <=3000 rs 30% off\n",
    "## print product prize after discount\n",
    "## product prize ==2999 it will ger addutional gift\n",
    "## product >=100 rs and <=2000 40% off\n",
    "## print the product prize after discount"
   ]
  },
  {
   "cell_type": "code",
   "execution_count": 10,
   "id": "3eaead1b-9069-4449-9d80-ee6d3a97dcc0",
   "metadata": {},
   "outputs": [
    {
     "name": "stdin",
     "output_type": "stream",
     "text": [
      "Enter the prize 4000\n"
     ]
    },
    {
     "name": "stdout",
     "output_type": "stream",
     "text": [
      "Congratulation you ger a Goa Trip\n",
      "The prize of the product is 3200.0\n"
     ]
    }
   ],
   "source": [
    "product_prize=int(input(\"Enter the prize\"))\n",
    "if product_prize>3000:\n",
    "    if product_prize==4000:\n",
    "        print(\"Congratulation you ger a Goa Trip\")\n",
    "    \n",
    "    print(f\"The prize of the product is {product_prize*0.8}\")\n",
    "elif product_prize>=2000 and product_prize<=3000:\n",
    "    if product_prize==2999:\n",
    "        print(\"Congratulation you get an additional girt\")\n",
    "        print(f\"The prize of the product is {product_prize*0.7}\")\n",
    "elif product_prize>=100 and product_prize<=2000:\n",
    "     print(f\"The prize of the product is {product_prize*0.6} \")\n",
    "else:\n",
    "    print(\"Lets drink tea\")"
   ]
  },
  {
   "cell_type": "code",
   "execution_count": 5,
   "id": "66d87873-fd2f-4db5-90a9-b79360e3316a",
   "metadata": {},
   "outputs": [],
   "source": [
    "## write a programme to enter your age and display result as given below:\n",
    "## age<1 then Infant\n",
    "## age>1 and age<=5 then Baby\n",
    "## age>5 and age<10 then Child\n",
    "## age>10 and age<=25 then Teengers\n",
    "## age>25 and age<=35 then adult\n",
    "## age>25 then old"
   ]
  },
  {
   "cell_type": "code",
   "execution_count": 8,
   "id": "8ba2ea67-9924-4553-a15e-ead55159c070",
   "metadata": {},
   "outputs": [
    {
     "name": "stdin",
     "output_type": "stream",
     "text": [
      "Enter Your Age 56\n"
     ]
    },
    {
     "name": "stdout",
     "output_type": "stream",
     "text": [
      "You are old\n"
     ]
    }
   ],
   "source": [
    "age=int(input(\"Enter Your Age\"))\n",
    "if age<1:\n",
    "    print(\"Infant\")\n",
    "elif age>1 and age<=5:\n",
    "    print(\"Baby\")\n",
    "elif age>5 and age<=10:\n",
    "    print(\"Child \")\n",
    "elif age>10 and age<=25:\n",
    "    print(\"Teengers\")\n",
    "elif age>25 and age<=35:\n",
    "    print(\"Adult\")\n",
    "else:\n",
    "    print(\"You are old\")\n",
    "\n"
   ]
  },
  {
   "cell_type": "code",
   "execution_count": 14,
   "id": "a02589bf-db70-4f63-9f00-2286dcfba1dc",
   "metadata": {},
   "outputs": [
    {
     "name": "stdin",
     "output_type": "stream",
     "text": [
      "Enter the number 5000\n"
     ]
    },
    {
     "name": "stdout",
     "output_type": "stream",
     "text": [
      " Good Bye\n"
     ]
    }
   ],
   "source": [
    "## Single_statement Suites\n",
    "val=int(input(\"Enter the number\"))\n",
    "if (val<=999):print(\"value is less than to 999\")\n",
    "else:\n",
    "    print(\" Good Bye\")"
   ]
  },
  {
   "cell_type": "markdown",
   "id": "7341eae7-cc31-45b5-a06d-440aa46ab152",
   "metadata": {},
   "source": [
    "# Loops Statements\n",
    "1 While loop\n",
    "2.For loop\n",
    "3. Nested loop\n",
    "4. Loop control(break,continue,pass)"
   ]
  },
  {
   "cell_type": "markdown",
   "id": "8039016a-7615-40aa-b699-01a6a3091121",
   "metadata": {},
   "source": [
    "# While Loop"
   ]
  },
  {
   "cell_type": "code",
   "execution_count": 15,
   "id": "457b7c0b-0980-469d-9cb3-7f423bf4a138",
   "metadata": {},
   "outputs": [
    {
     "name": "stdout",
     "output_type": "stream",
     "text": [
      "25\n",
      "26\n",
      "27\n",
      "28\n",
      "29\n",
      "30\n",
      "31\n",
      "32\n",
      "33\n",
      "34\n",
      "35\n",
      "36\n",
      "37\n",
      "38\n",
      "39\n",
      "40\n",
      "41\n",
      "42\n",
      "43\n",
      "44\n",
      "45\n",
      "46\n",
      "47\n",
      "48\n",
      "49\n",
      "50\n",
      "51\n",
      "52\n",
      "53\n",
      "54\n",
      "55\n",
      "56\n",
      "57\n",
      "58\n",
      "59\n",
      "60\n",
      "Its time for retirement\n"
     ]
    }
   ],
   "source": [
    "## while loop while-else\n",
    "joining_age=25\n",
    "while joining_age<=60:\n",
    "    print(joining_age)\n",
    "    joining_age=joining_age+1\n",
    "else:\n",
    "    print(\"Its time for retirement\")"
   ]
  },
  {
   "cell_type": "code",
   "execution_count": 17,
   "id": "2c4cb96b-1f22-4bde-aa7f-f51b7ba2df6b",
   "metadata": {},
   "outputs": [
    {
     "name": "stdout",
     "output_type": "stream",
     "text": [
      "1000\n",
      "900\n",
      "800\n",
      "700\n",
      "600\n",
      "500\n",
      "400\n",
      "300\n",
      "200\n",
      "100\n",
      "Put more money bank people\n"
     ]
    }
   ],
   "source": [
    "## AIM machine with 1000 rw \n",
    "total_amount=1000\n",
    "while total_amount!=0:\n",
    "    print(total_amount)\n",
    "    total_amount=total_amount-100\n",
    "else:\n",
    "    print(\"Put more money bank people\")\n",
    "    "
   ]
  },
  {
   "cell_type": "markdown",
   "id": "fe72aadc-c982-4093-9eb8-1fd7f2818cdd",
   "metadata": {},
   "source": [
    "# For Loop"
   ]
  },
  {
   "cell_type": "code",
   "execution_count": 18,
   "id": "b1613962-85e3-4976-a2fb-98d024cd1f6a",
   "metadata": {},
   "outputs": [],
   "source": [
    "lst=[\"Roshan\",1,2,3,4,\"apple\",\"banana\"]"
   ]
  },
  {
   "cell_type": "code",
   "execution_count": 19,
   "id": "66bd1883-2da6-4934-b8a5-170ab3b40d74",
   "metadata": {},
   "outputs": [
    {
     "data": {
      "text/plain": [
       "list"
      ]
     },
     "execution_count": 19,
     "metadata": {},
     "output_type": "execute_result"
    }
   ],
   "source": [
    "type(lst)"
   ]
  },
  {
   "cell_type": "code",
   "execution_count": 20,
   "id": "6e10aa0d-aa72-4a48-97c8-d2f948188b3b",
   "metadata": {},
   "outputs": [
    {
     "data": {
      "text/plain": [
       "'apple'"
      ]
     },
     "execution_count": 20,
     "metadata": {},
     "output_type": "execute_result"
    }
   ],
   "source": [
    "lst[5]"
   ]
  },
  {
   "cell_type": "code",
   "execution_count": 21,
   "id": "f7e3c2c6-8dcc-4153-8faa-87425ef60820",
   "metadata": {},
   "outputs": [
    {
     "data": {
      "text/plain": [
       "['Roshan', 1, 2, 3, 4, 'apple', 'banana']"
      ]
     },
     "execution_count": 21,
     "metadata": {},
     "output_type": "execute_result"
    }
   ],
   "source": [
    "lst"
   ]
  },
  {
   "cell_type": "code",
   "execution_count": 22,
   "id": "d9fb3ca5-7a3e-457c-90ce-405c17b865fa",
   "metadata": {},
   "outputs": [
    {
     "name": "stdout",
     "output_type": "stream",
     "text": [
      "Roshan\n",
      "1\n",
      "2\n",
      "3\n",
      "4\n",
      "apple\n",
      "banana\n"
     ]
    }
   ],
   "source": [
    "for x in lst:\n",
    "    print(x)"
   ]
  },
  {
   "cell_type": "code",
   "execution_count": 26,
   "id": "21379ec0-d5d3-4f9a-aad6-141a2f42448c",
   "metadata": {},
   "outputs": [],
   "source": [
    "weeks=[\"sunday\",\"monday\",\"tuesday\",\"wednesday\",\"thursday\",\"friday\",\"saturday\"]\n"
   ]
  },
  {
   "cell_type": "code",
   "execution_count": 30,
   "id": "06fec458-39f8-40c0-8bd9-0bae670ec7d9",
   "metadata": {},
   "outputs": [
    {
     "name": "stdout",
     "output_type": "stream",
     "text": [
      "sunday\n",
      "sunday ho ya monday roj khao anday\n",
      "monday\n",
      "tuesday\n",
      "wednesday\n",
      "thursday\n",
      "friday\n",
      "saturday\n"
     ]
    }
   ],
   "source": [
    "for a in weeks:\n",
    "    print(a)\n",
    "    if a==\"sunday\":\n",
    "        print(\"sunday ho ya monday roj khao anday\")"
   ]
  },
  {
   "cell_type": "code",
   "execution_count": 31,
   "id": "f0f3cf31-34bd-4a82-acd4-9f0d902de4d9",
   "metadata": {},
   "outputs": [
    {
     "name": "stdout",
     "output_type": "stream",
     "text": [
      "R\n",
      "o\n",
      "s\n",
      "h\n",
      "a\n",
      "n\n"
     ]
    }
   ],
   "source": [
    "name=\"Roshan\"\n",
    "for x in name:\n",
    "    print(x)"
   ]
  },
  {
   "cell_type": "code",
   "execution_count": 32,
   "id": "2595c4fe-f5fd-4d6e-a77b-24d7d649effd",
   "metadata": {},
   "outputs": [
    {
     "data": {
      "text/plain": [
       "'n'"
      ]
     },
     "execution_count": 32,
     "metadata": {},
     "output_type": "execute_result"
    }
   ],
   "source": [
    "name[5]"
   ]
  },
  {
   "cell_type": "markdown",
   "id": "67b63f47-b592-4247-bc06-df934be8051c",
   "metadata": {},
   "source": [
    "## Nested Loop"
   ]
  },
  {
   "cell_type": "code",
   "execution_count": 33,
   "id": "9e869e5e-805f-4641-b20d-8850d84ab715",
   "metadata": {},
   "outputs": [
    {
     "name": "stdout",
     "output_type": "stream",
     "text": [
      "1\n",
      "2\n",
      "3\n",
      "4\n",
      "5\n",
      "6\n",
      "7\n",
      "8\n",
      "9\n"
     ]
    }
   ],
   "source": [
    "## Range\n",
    "for r in range(1,10):\n",
    "    print(r)"
   ]
  },
  {
   "cell_type": "code",
   "execution_count": 34,
   "id": "d42eb138-d1a5-4df9-8a50-2226a05b7982",
   "metadata": {},
   "outputs": [
    {
     "name": "stdout",
     "output_type": "stream",
     "text": [
      "1\n",
      "3\n",
      "5\n",
      "7\n",
      "9\n"
     ]
    }
   ],
   "source": [
    "for r in range(1,10,2):\n",
    "    print(r)"
   ]
  },
  {
   "cell_type": "code",
   "execution_count": 50,
   "id": "8a3ee9bf-f849-471b-afbc-93826a4342bd",
   "metadata": {},
   "outputs": [
    {
     "ename": "IndentationError",
     "evalue": "expected an indented block after 'for' statement on line 3 (2152609196.py, line 4)",
     "output_type": "error",
     "traceback": [
      "\u001b[0;36m  Cell \u001b[0;32mIn[50], line 4\u001b[0;36m\u001b[0m\n\u001b[0;31m    print(\"*\",end=\"\")\u001b[0m\n\u001b[0m    ^\u001b[0m\n\u001b[0;31mIndentationError\u001b[0m\u001b[0;31m:\u001b[0m expected an indented block after 'for' statement on line 3\n"
     ]
    }
   ],
   "source": [
    "n=7\n",
    "for i in range(0,n):\n",
    "    for j in range(0,i+1):\n",
    "    print(\"*\",end=\"\")\n",
    "    print(\"\\r\")"
   ]
  },
  {
   "cell_type": "code",
   "execution_count": 54,
   "id": "f1803447-c574-48eb-87b5-50bd82eb783e",
   "metadata": {},
   "outputs": [
    {
     "name": "stdout",
     "output_type": "stream",
     "text": [
      "sunday\n",
      "monday\n",
      "tuesday\n",
      "wednesday\n",
      "thursday\n",
      "sunday ho ya monday roj khao anday\n"
     ]
    }
   ],
   "source": [
    "for a in weeks:\n",
    "    print(a)\n",
    "    if a==\"thursday\":\n",
    "        print(\"sunday ho ya monday roj khao anday\")\n",
    "        break"
   ]
  },
  {
   "cell_type": "code",
   "execution_count": 55,
   "id": "c22f52dc-a696-4e69-a533-04511b6d411e",
   "metadata": {},
   "outputs": [
    {
     "name": "stdout",
     "output_type": "stream",
     "text": [
      "sunday\n",
      "monday\n",
      "tuesday\n",
      "wednesday\n",
      "thursday\n",
      "sunday ho ya monday roj khao anday\n",
      "friday\n",
      "saturday\n"
     ]
    }
   ],
   "source": [
    "for a in weeks:\n",
    "    print(a)\n",
    "    if a==\"thursday\":\n",
    "        print(\"sunday ho ya monday roj khao anday\")\n",
    "        pass"
   ]
  },
  {
   "cell_type": "code",
   "execution_count": 56,
   "id": "183c3e25-07ec-4aba-b137-337fc469643f",
   "metadata": {},
   "outputs": [
    {
     "name": "stdout",
     "output_type": "stream",
     "text": [
      "sunday\n",
      "monday\n",
      "tuesday\n",
      "wednesday\n",
      "thursday\n",
      "sunday ho ya monday roj khao anday\n",
      "friday\n",
      "saturday\n"
     ]
    }
   ],
   "source": [
    "for a in weeks:\n",
    "    print(a)\n",
    "    if a==\"thursday\":\n",
    "        print(\"sunday ho ya monday roj khao anday\")\n",
    "        continue"
   ]
  },
  {
   "cell_type": "code",
   "execution_count": null,
   "id": "f90ee981-c1b9-466c-91e7-fab6fc7b90e1",
   "metadata": {},
   "outputs": [],
   "source": []
  }
 ],
 "metadata": {
  "kernelspec": {
   "display_name": "Python 3 (ipykernel)",
   "language": "python",
   "name": "python3"
  },
  "language_info": {
   "codemirror_mode": {
    "name": "ipython",
    "version": 3
   },
   "file_extension": ".py",
   "mimetype": "text/x-python",
   "name": "python",
   "nbconvert_exporter": "python",
   "pygments_lexer": "ipython3",
   "version": "3.10.8"
  }
 },
 "nbformat": 4,
 "nbformat_minor": 5
}
