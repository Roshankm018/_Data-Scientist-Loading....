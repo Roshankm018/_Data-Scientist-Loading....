{
 "cells": [
  {
   "cell_type": "markdown",
   "id": "6f532a5a-adff-40b1-b3ac-7f88128a68d4",
   "metadata": {},
   "source": [
    "# Logical Operatos\n",
    " ### 1 And:- It compares two or more relational expressions and displays the result true if all the ecpression are true otherwise false.\n",
    " \n",
    " ### 2 or:- It comprares two or more relational expression and displays the result treu if any one of the expression is true and false if all the expression is false.\n",
    " \n",
    " ### 3 not:- It is a negaation logical operator. It reverse the output."
   ]
  },
  {
   "cell_type": "code",
   "execution_count": 1,
   "id": "e2b1601c-4614-41b9-8cfc-06aa6793bee0",
   "metadata": {},
   "outputs": [
    {
     "data": {
      "text/plain": [
       "False"
      ]
     },
     "execution_count": 1,
     "metadata": {},
     "output_type": "execute_result"
    }
   ],
   "source": [
    "True and False"
   ]
  },
  {
   "cell_type": "code",
   "execution_count": 3,
   "id": "9301a8e0-d653-4c47-8a9d-4757f966559e",
   "metadata": {},
   "outputs": [
    {
     "data": {
      "text/plain": [
       "True"
      ]
     },
     "execution_count": 3,
     "metadata": {},
     "output_type": "execute_result"
    }
   ],
   "source": [
    "True and True"
   ]
  },
  {
   "cell_type": "code",
   "execution_count": 4,
   "id": "50eb13ac-66fa-4af5-886e-e8756fe8c834",
   "metadata": {},
   "outputs": [
    {
     "data": {
      "text/plain": [
       "True"
      ]
     },
     "execution_count": 4,
     "metadata": {},
     "output_type": "execute_result"
    }
   ],
   "source": [
    "True or False"
   ]
  },
  {
   "cell_type": "code",
   "execution_count": 5,
   "id": "fb4b95ff-511f-4450-88e3-e91f058716ee",
   "metadata": {},
   "outputs": [
    {
     "data": {
      "text/plain": [
       "False"
      ]
     },
     "execution_count": 5,
     "metadata": {},
     "output_type": "execute_result"
    }
   ],
   "source": [
    "not True"
   ]
  },
  {
   "cell_type": "code",
   "execution_count": 6,
   "id": "b788a173-19d9-45a0-a1c5-b40bd0c9d212",
   "metadata": {},
   "outputs": [
    {
     "data": {
      "text/plain": [
       "True"
      ]
     },
     "execution_count": 6,
     "metadata": {},
     "output_type": "execute_result"
    }
   ],
   "source": [
    "not False"
   ]
  },
  {
   "cell_type": "code",
   "execution_count": 7,
   "id": "61c1cf85-5c65-4dce-85a3-6825d04ed3b4",
   "metadata": {},
   "outputs": [
    {
     "name": "stdout",
     "output_type": "stream",
     "text": [
      "Defined value of START = True\n",
      "Defined value of STOP = False \n",
      "\n",
      "Defined value of START = True\n",
      "Value of STOP by negating START= False \n",
      "\n",
      "Value of START by negating STOP = True\n",
      "Defined value of STOP = False \n",
      "\n"
     ]
    }
   ],
   "source": [
    "# Lets define two variables having boolean values True and False-\n",
    "START = True\n",
    "STOP = False\n",
    "\n",
    "# Print the values as it is\n",
    "print(f\"Defined value of START = {START}\")\n",
    "print(f\"Defined value of STOP = {STOP} \\n\")\n",
    "\n",
    "# if can also be written as - \n",
    "print(f\"Defined value of START = {START}\")\n",
    "print(f\"Value of STOP by negating START= {not START} \\n\")\n",
    "\n",
    "# alternatively -\n",
    "print(f\"Value of START by negating STOP = {not STOP}\")\n",
    "print(f\"Defined value of STOP = {STOP} \\n\")"
   ]
  },
  {
   "cell_type": "code",
   "execution_count": 8,
   "id": "d1eff54b-b74c-404b-ba02-d55c76bafbd0",
   "metadata": {},
   "outputs": [
    {
     "name": "stdout",
     "output_type": "stream",
     "text": [
      "Defined value of START = 1\n",
      "Defined value of STOP = 0 \n",
      "\n",
      "Defined value of START = 1\n",
      "Value of STOP by negating START= 0 \n",
      "\n",
      "Value of START by negating STOP = 1\n",
      "Defined value of STOP = 0 \n",
      "\n"
     ]
    }
   ],
   "source": [
    "START = 1\n",
    "STOP = 0\n",
    "\n",
    "# Print the values as it is\n",
    "print(f\"Defined value of START = {START}\")\n",
    "print(f\"Defined value of STOP = {STOP} \\n\")\n",
    "\n",
    "# if can also be written as - \n",
    "print(f\"Defined value of START = {START}\")\n",
    "print(f\"Value of STOP by negating START= {int(not START)} \\n\")\n",
    "\n",
    "# alternatively -\n",
    "print(f\"Value of START by negating STOP = {int(not STOP)}\")\n",
    "print(f\"Defined value of STOP = {STOP} \\n\")"
   ]
  },
  {
   "cell_type": "code",
   "execution_count": 9,
   "id": "50d1bb90-bbbb-48ba-91b9-7b232b3e26ae",
   "metadata": {},
   "outputs": [
    {
     "name": "stdout",
     "output_type": "stream",
     "text": [
      "boolean value of no. 0 is False\n",
      "boolean value of no. 1 is True\n",
      "negation of 0 is True and negation of 1 is False\n",
      "\n",
      "#------------------------#\n",
      "\n"
     ]
    }
   ],
   "source": [
    "zero = 0\n",
    "one = 1\n",
    "\n",
    "print(f\"boolean value of no. {zero} is {bool(zero)}\")\n",
    "print(f\"boolean value of no. {one} is {bool(one)}\")\n",
    "print(f\"negation of {zero} is {not zero} and negation of {one} is {not one}\")\n",
    "print(\"\\n#------------------------#\\n\")"
   ]
  },
  {
   "cell_type": "code",
   "execution_count": 12,
   "id": "499d5371-667f-4168-b33a-c06bd2d0cc71",
   "metadata": {},
   "outputs": [
    {
     "name": "stdout",
     "output_type": "stream",
     "text": [
      "boolean value of no.5 is True\n",
      "boolean value of no.-5 is True\n",
      "negation of -5 is False \\ and negation of 5 is False\n",
      "\n",
      "#----------------------#\n",
      "\n"
     ]
    }
   ],
   "source": [
    "some_negative_integer= -5\n",
    "some_positive_integer= 5\n",
    "print(f\"boolean value of no.{some_positive_integer} is {bool(some_positive_integer)}\")\n",
    "print(f\"boolean value of no.{some_negative_integer} is {bool(some_negative_integer)}\")\n",
    "print(f\"negation of {some_negative_integer} is {not some_negative_integer} \\ and negation of {some_positive_integer} is {not some_positive_integer}\")\n",
    "print(\"\\n#----------------------#\\n\")"
   ]
  },
  {
   "cell_type": "code",
   "execution_count": 13,
   "id": "d1138743-e94b-4ce2-8523-05797f91d712",
   "metadata": {},
   "outputs": [
    {
     "name": "stdout",
     "output_type": "stream",
     "text": [
      "boolean value of no. -5.99 is True\n",
      "boolean value of no. 5.6 is True\n",
      "negation of -5.99 is False and negation of 5.6 is False\n"
     ]
    }
   ],
   "source": [
    "Some_negative_float = -5.99\n",
    "Some_positive_float = 5.6\n",
    "\n",
    "print(f\"boolean value of no. {Some_negative_float} is {bool(Some_negative_float)}\")\n",
    "print(f\"boolean value of no. {Some_positive_float} is {bool(Some_positive_float)}\")\n",
    "print(f\"negation of {Some_negative_float} is {not Some_negative_float} \\\n",
    "and negation of {Some_positive_float} is {not Some_positive_float}\")"
   ]
  },
  {
   "cell_type": "code",
   "execution_count": 14,
   "id": "e5ecdf2d-bf0b-4b48-9bf5-cfca6c2ccd5c",
   "metadata": {},
   "outputs": [
    {
     "name": "stdout",
     "output_type": "stream",
     "text": [
      "Dish contains VEGETABLES: True\n",
      "Dish contains SALT: False\n",
      "Hence dish prepared was good: False\n",
      "\n"
     ]
    }
   ],
   "source": [
    "VEGETABLES=True\n",
    "SALT=False\n",
    "DISH=VEGETABLES and SALT\n",
    "\n",
    "print(f\"Dish contains VEGETABLES: {VEGETABLES}\")\n",
    "print(f\"Dish contains SALT: {SALT}\")\n",
    "print(f\"Hence dish prepared was good: {DISH}\\n\")"
   ]
  },
  {
   "cell_type": "code",
   "execution_count": 15,
   "id": "402d66a3-d964-48cb-b4ad-803059d5aca0",
   "metadata": {},
   "outputs": [
    {
     "data": {
      "text/plain": [
       "1"
      ]
     },
     "execution_count": 15,
     "metadata": {},
     "output_type": "execute_result"
    }
   ],
   "source": [
    "True*True"
   ]
  },
  {
   "cell_type": "code",
   "execution_count": 17,
   "id": "8da9af53-7c16-4394-ad39-7eac0f12a1da",
   "metadata": {},
   "outputs": [
    {
     "data": {
      "text/plain": [
       "True"
      ]
     },
     "execution_count": 17,
     "metadata": {},
     "output_type": "execute_result"
    }
   ],
   "source": [
    "not(False)*False == True\n"
   ]
  },
  {
   "cell_type": "code",
   "execution_count": 18,
   "id": "0b947aa6-bcba-4fdc-ab81-11f7729c6888",
   "metadata": {},
   "outputs": [
    {
     "data": {
      "text/plain": [
       "True"
      ]
     },
     "execution_count": 18,
     "metadata": {},
     "output_type": "execute_result"
    }
   ],
   "source": [
    "not False * True == True"
   ]
  },
  {
   "cell_type": "markdown",
   "id": "26fe9a40-e13c-4323-ad75-a5839953fd0a",
   "metadata": {},
   "source": [
    "## Equality Operators"
   ]
  },
  {
   "cell_type": "code",
   "execution_count": 21,
   "id": "2ec941fb-3dd2-44cc-b954-12a06d4dd728",
   "metadata": {},
   "outputs": [],
   "source": [
    "lst_a=[1,2,3,4]\n",
    "lst_b=[1,2,3,4]"
   ]
  },
  {
   "cell_type": "code",
   "execution_count": 29,
   "id": "5ed8e584-5892-4db5-86a1-62568c391d4d",
   "metadata": {},
   "outputs": [
    {
     "name": "stdout",
     "output_type": "stream",
     "text": [
      "140291819819968\n",
      "140291819815168\n"
     ]
    }
   ],
   "source": [
    "print(id(lst_a))\n",
    "print(id(lst_b))"
   ]
  },
  {
   "cell_type": "code",
   "execution_count": 31,
   "id": "d48afc38-7ce9-4a28-8c03-ea550a06d0de",
   "metadata": {},
   "outputs": [
    {
     "data": {
      "text/plain": [
       "False"
      ]
     },
     "execution_count": 31,
     "metadata": {},
     "output_type": "execute_result"
    }
   ],
   "source": [
    "lst_a is lst_b"
   ]
  },
  {
   "cell_type": "code",
   "execution_count": null,
   "id": "4470a117-ce8b-475c-a6f4-14e919941d24",
   "metadata": {},
   "outputs": [],
   "source": [
    "lst_a=[1,2,3,4]\n",
    "lst_b=lst_a"
   ]
  },
  {
   "cell_type": "code",
   "execution_count": 33,
   "id": "6ddf004f-d530-48c5-80bb-6c116a2d7d9f",
   "metadata": {},
   "outputs": [
    {
     "name": "stdout",
     "output_type": "stream",
     "text": [
      "140291873467264\n",
      "140291873467264\n"
     ]
    }
   ],
   "source": [
    "print(id(lst_a))\n",
    "print(id(lst_b))"
   ]
  },
  {
   "cell_type": "code",
   "execution_count": 34,
   "id": "f79f72a5-84c0-4614-8426-67c3377c9480",
   "metadata": {},
   "outputs": [
    {
     "data": {
      "text/plain": [
       "True"
      ]
     },
     "execution_count": 34,
     "metadata": {},
     "output_type": "execute_result"
    }
   ],
   "source": [
    "lst_a is lst_b"
   ]
  },
  {
   "cell_type": "code",
   "execution_count": 35,
   "id": "a88b0211-f107-4cf0-b6e6-7440c961025d",
   "metadata": {},
   "outputs": [
    {
     "data": {
      "text/plain": [
       "True"
      ]
     },
     "execution_count": 35,
     "metadata": {},
     "output_type": "execute_result"
    }
   ],
   "source": [
    "lst_a=[1,2,3,4]\n",
    "lst_b=[1,2,3,4]\n",
    "\n",
    "lst_a is not lst_b"
   ]
  },
  {
   "cell_type": "code",
   "execution_count": 37,
   "id": "34e8026d-6eb1-468f-be36-2a02c52458bb",
   "metadata": {},
   "outputs": [
    {
     "data": {
      "text/plain": [
       "True"
      ]
     },
     "execution_count": 37,
     "metadata": {},
     "output_type": "execute_result"
    }
   ],
   "source": [
    "lst_a == lst_b"
   ]
  },
  {
   "cell_type": "code",
   "execution_count": 40,
   "id": "5b5bf111-e66c-44d0-b7f0-7a32a54fb251",
   "metadata": {},
   "outputs": [
    {
     "name": "stdout",
     "output_type": "stream",
     "text": [
      "140291916185872\n",
      "140291916185872\n"
     ]
    }
   ],
   "source": [
    "a=2\n",
    "b=2\n",
    "\n",
    "print(id(a))\n",
    "print(id(b))"
   ]
  },
  {
   "cell_type": "code",
   "execution_count": 45,
   "id": "a9795d5d-49db-46e0-8176-315ccba92e36",
   "metadata": {},
   "outputs": [
    {
     "name": "stdout",
     "output_type": "stream",
     "text": [
      "140291565715376\n",
      "140291565715376\n"
     ]
    }
   ],
   "source": [
    "str1=\"Roshan\"\n",
    "str2=\"Roshan\"\n",
    "\n",
    "print(id(str1))\n",
    "print(id(str2))"
   ]
  },
  {
   "cell_type": "code",
   "execution_count": 46,
   "id": "5f0807b4-e889-4bf0-b84c-0a208d1422aa",
   "metadata": {},
   "outputs": [
    {
     "name": "stdout",
     "output_type": "stream",
     "text": [
      "140291565715376\n",
      "140291565848624\n"
     ]
    }
   ],
   "source": [
    "str1=\"Roshan\"\n",
    "str2=\"Roshan1\"\n",
    "\n",
    "print(id(str1))\n",
    "print(id(str2))"
   ]
  },
  {
   "cell_type": "markdown",
   "id": "2d02ff6b-cf51-4348-99bd-a459ce688ffe",
   "metadata": {},
   "source": [
    "# Comparison Operation"
   ]
  },
  {
   "cell_type": "code",
   "execution_count": 60,
   "id": "5dcdfaa1-6620-4314-9ef5-7407f833f2f1",
   "metadata": {},
   "outputs": [
    {
     "name": "stdout",
     "output_type": "stream",
     "text": [
      "bike is faster than car : False\n"
     ]
    }
   ],
   "source": [
    "maxium_speed_of_bike=150\n",
    "max_speed_of_car=200\n",
    "\n",
    "print(f\"bike is faster than car : {maxium_speed_of_bike >= max_speed_of_car}\")\n"
   ]
  },
  {
   "cell_type": "code",
   "execution_count": null,
   "id": "8b6a3a3b-8c90-4c89-8fb6-539cba0dcf66",
   "metadata": {},
   "outputs": [],
   "source": []
  },
  {
   "cell_type": "markdown",
   "id": "480d6490-cb06-456d-be2a-54b3542b708f",
   "metadata": {},
   "source": [
    "# Arithmetic Operation"
   ]
  },
  {
   "cell_type": "code",
   "execution_count": 64,
   "id": "a76d3460-290a-4e35-984e-1f2298173190",
   "metadata": {},
   "outputs": [
    {
     "data": {
      "text/plain": [
       "2525"
      ]
     },
     "execution_count": 64,
     "metadata": {},
     "output_type": "execute_result"
    }
   ],
   "source": [
    "r=25\n",
    "s=101\n",
    "\n",
    "r*s"
   ]
  },
  {
   "cell_type": "code",
   "execution_count": 65,
   "id": "fd709795-792b-4690-939e-6944cab9ee25",
   "metadata": {},
   "outputs": [
    {
     "data": {
      "text/plain": [
       "25"
      ]
     },
     "execution_count": 65,
     "metadata": {},
     "output_type": "execute_result"
    }
   ],
   "source": [
    "r"
   ]
  },
  {
   "cell_type": "code",
   "execution_count": 66,
   "id": "77b948c0-cea1-46c7-b968-317287869b60",
   "metadata": {},
   "outputs": [
    {
     "data": {
      "text/plain": [
       "101"
      ]
     },
     "execution_count": 66,
     "metadata": {},
     "output_type": "execute_result"
    }
   ],
   "source": [
    "s"
   ]
  },
  {
   "cell_type": "code",
   "execution_count": 67,
   "id": "d7e642c3-f352-4ba3-b19a-7a03e9a42c05",
   "metadata": {},
   "outputs": [
    {
     "data": {
      "text/plain": [
       "126"
      ]
     },
     "execution_count": 67,
     "metadata": {},
     "output_type": "execute_result"
    }
   ],
   "source": [
    "r+s"
   ]
  },
  {
   "cell_type": "code",
   "execution_count": 68,
   "id": "ae741147-a8d8-4c44-b800-cd8e8aa9244c",
   "metadata": {},
   "outputs": [
    {
     "data": {
      "text/plain": [
       "12.5"
      ]
     },
     "execution_count": 68,
     "metadata": {},
     "output_type": "execute_result"
    }
   ],
   "source": [
    "r/b"
   ]
  },
  {
   "cell_type": "code",
   "execution_count": 69,
   "id": "525f4976-9840-4be3-af78-21e93389c7c6",
   "metadata": {},
   "outputs": [
    {
     "data": {
      "text/plain": [
       "0"
      ]
     },
     "execution_count": 69,
     "metadata": {},
     "output_type": "execute_result"
    }
   ],
   "source": [
    "r//s"
   ]
  },
  {
   "cell_type": "code",
   "execution_count": 72,
   "id": "1a357afb-755b-482e-88e0-b319953e2fe4",
   "metadata": {},
   "outputs": [
    {
     "data": {
      "text/plain": [
       "25"
      ]
     },
     "execution_count": 72,
     "metadata": {},
     "output_type": "execute_result"
    }
   ],
   "source": [
    "r%s"
   ]
  },
  {
   "cell_type": "code",
   "execution_count": 77,
   "id": "4e9dbb31-f644-45d9-a6f1-11077f945b26",
   "metadata": {},
   "outputs": [
    {
     "data": {
      "text/plain": [
       "1"
      ]
     },
     "execution_count": 77,
     "metadata": {},
     "output_type": "execute_result"
    }
   ],
   "source": [
    "s%r"
   ]
  },
  {
   "cell_type": "markdown",
   "id": "0475eb59-5b7f-414e-aaff-e0fb27ec3b8a",
   "metadata": {},
   "source": [
    "# Bitwise Operators"
   ]
  },
  {
   "cell_type": "code",
   "execution_count": 78,
   "id": "9e7659e8-48a4-4cc4-9950-63ac87319812",
   "metadata": {},
   "outputs": [
    {
     "data": {
      "text/plain": [
       "'0b10100'"
      ]
     },
     "execution_count": 78,
     "metadata": {},
     "output_type": "execute_result"
    }
   ],
   "source": [
    "var=20\n",
    "bin(var)"
   ]
  },
  {
   "cell_type": "code",
   "execution_count": 79,
   "id": "ebbf13df-2c6c-47b3-bd80-65e74b79a841",
   "metadata": {},
   "outputs": [
    {
     "data": {
      "text/plain": [
       "-21"
      ]
     },
     "execution_count": 79,
     "metadata": {},
     "output_type": "execute_result"
    }
   ],
   "source": [
    "~var"
   ]
  },
  {
   "cell_type": "code",
   "execution_count": 80,
   "id": "b6464d6f-2f8f-45da-ad97-a0169dcdc1e2",
   "metadata": {},
   "outputs": [
    {
     "data": {
      "text/plain": [
       "False"
      ]
     },
     "execution_count": 80,
     "metadata": {},
     "output_type": "execute_result"
    }
   ],
   "source": [
    "True & False"
   ]
  },
  {
   "cell_type": "code",
   "execution_count": 81,
   "id": "b879e61c-58a0-415f-b926-2fab49319d7b",
   "metadata": {},
   "outputs": [
    {
     "data": {
      "text/plain": [
       "True"
      ]
     },
     "execution_count": 81,
     "metadata": {},
     "output_type": "execute_result"
    }
   ],
   "source": [
    "True | False"
   ]
  },
  {
   "cell_type": "code",
   "execution_count": 84,
   "id": "de8bd3c1-165a-4095-86d1-b53aa7eaa28f",
   "metadata": {},
   "outputs": [
    {
     "data": {
      "text/plain": [
       "20"
      ]
     },
     "execution_count": 84,
     "metadata": {},
     "output_type": "execute_result"
    }
   ],
   "source": [
    "var"
   ]
  },
  {
   "cell_type": "code",
   "execution_count": 85,
   "id": "2277424b-3d38-40aa-a797-76fdc82798cc",
   "metadata": {},
   "outputs": [
    {
     "data": {
      "text/plain": [
       "40"
      ]
     },
     "execution_count": 85,
     "metadata": {},
     "output_type": "execute_result"
    }
   ],
   "source": [
    "var <<1"
   ]
  },
  {
   "cell_type": "code",
   "execution_count": 86,
   "id": "bc04f4a2-e4d1-4b76-9fc4-5ac244cef611",
   "metadata": {},
   "outputs": [
    {
     "data": {
      "text/plain": [
       "10"
      ]
     },
     "execution_count": 86,
     "metadata": {},
     "output_type": "execute_result"
    }
   ],
   "source": [
    "var>>1"
   ]
  },
  {
   "cell_type": "markdown",
   "id": "f6c26fb5-8d49-45b2-9383-05f1a2a57c7d",
   "metadata": {},
   "source": [
    "# Strings"
   ]
  },
  {
   "cell_type": "code",
   "execution_count": 1,
   "id": "d1643127-b434-42a1-bddc-ae0eebbb61fd",
   "metadata": {},
   "outputs": [
    {
     "data": {
      "text/plain": [
       "'welcome to Data Science Masters'"
      ]
     },
     "execution_count": 1,
     "metadata": {},
     "output_type": "execute_result"
    }
   ],
   "source": [
    "\"welcome to Data Science Masters\""
   ]
  },
  {
   "cell_type": "code",
   "execution_count": 2,
   "id": "3698da03-d386-479d-8da5-7565bcbde662",
   "metadata": {},
   "outputs": [],
   "source": [
    "str1=\"welcome to Data Science Masters\""
   ]
  },
  {
   "cell_type": "code",
   "execution_count": 3,
   "id": "ce4fda92-d92b-4ecf-8a7b-db13642161d6",
   "metadata": {},
   "outputs": [
    {
     "data": {
      "text/plain": [
       "'welcome to Data Science Masters'"
      ]
     },
     "execution_count": 3,
     "metadata": {},
     "output_type": "execute_result"
    }
   ],
   "source": [
    "str1"
   ]
  },
  {
   "cell_type": "code",
   "execution_count": 4,
   "id": "b4300282-fd4a-4335-9e89-57c2c665e9e7",
   "metadata": {},
   "outputs": [
    {
     "data": {
      "text/plain": [
       "str"
      ]
     },
     "execution_count": 4,
     "metadata": {},
     "output_type": "execute_result"
    }
   ],
   "source": [
    "type(str1)"
   ]
  },
  {
   "cell_type": "code",
   "execution_count": 17,
   "id": "1e810455-20fb-4ef9-a5ba-1f21515786f9",
   "metadata": {},
   "outputs": [
    {
     "data": {
      "text/plain": [
       "'R'"
      ]
     },
     "execution_count": 17,
     "metadata": {},
     "output_type": "execute_result"
    }
   ],
   "source": [
    "## Immutable\n",
    "str1[0]"
   ]
  },
  {
   "cell_type": "code",
   "execution_count": 7,
   "id": "91f8e2a9-fbdd-4b90-b22c-ee8b6ced9492",
   "metadata": {},
   "outputs": [],
   "source": [
    "str1=\"Roshan kumar Mandal\""
   ]
  },
  {
   "cell_type": "code",
   "execution_count": 8,
   "id": "3743c791-e653-4475-8eb9-a4d07e64d2f8",
   "metadata": {},
   "outputs": [
    {
     "data": {
      "text/plain": [
       "'Roshan kumar Mandal'"
      ]
     },
     "execution_count": 8,
     "metadata": {},
     "output_type": "execute_result"
    }
   ],
   "source": [
    "str1"
   ]
  },
  {
   "cell_type": "code",
   "execution_count": 9,
   "id": "858fbb17-2762-41f1-9483-d84c1c26c3ce",
   "metadata": {},
   "outputs": [],
   "source": [
    "string=\"Pw Skills Data Science\""
   ]
  },
  {
   "cell_type": "code",
   "execution_count": 10,
   "id": "cefd79cf-d032-4c7b-a929-58aba8ec6f55",
   "metadata": {},
   "outputs": [
    {
     "data": {
      "text/plain": [
       "'i'"
      ]
     },
     "execution_count": 10,
     "metadata": {},
     "output_type": "execute_result"
    }
   ],
   "source": [
    "string[5]"
   ]
  },
  {
   "cell_type": "code",
   "execution_count": 12,
   "id": "69d01213-d38d-4935-8f26-d0f33726bec7",
   "metadata": {},
   "outputs": [
    {
     "data": {
      "text/plain": [
       "'ills Data Science'"
      ]
     },
     "execution_count": 12,
     "metadata": {},
     "output_type": "execute_result"
    }
   ],
   "source": [
    "## Slice Operation\n",
    "string[5:]"
   ]
  },
  {
   "cell_type": "code",
   "execution_count": 15,
   "id": "0fb2ea18-0962-4295-851f-a7088269c381",
   "metadata": {},
   "outputs": [
    {
     "data": {
      "text/plain": [
       "'ills D'"
      ]
     },
     "execution_count": 15,
     "metadata": {},
     "output_type": "execute_result"
    }
   ],
   "source": [
    "string[5:11]"
   ]
  },
  {
   "cell_type": "code",
   "execution_count": 16,
   "id": "1d4c96b1-23f9-4078-810e-3301404f34d1",
   "metadata": {},
   "outputs": [
    {
     "data": {
      "text/plain": [
       "'e'"
      ]
     },
     "execution_count": 16,
     "metadata": {},
     "output_type": "execute_result"
    }
   ],
   "source": [
    "string[-1]"
   ]
  },
  {
   "cell_type": "code",
   "execution_count": 19,
   "id": "f8f197fd-e60a-4ec9-9a3c-a63eedb6bf81",
   "metadata": {},
   "outputs": [
    {
     "data": {
      "text/plain": [
       "'e'"
      ]
     },
     "execution_count": 19,
     "metadata": {},
     "output_type": "execute_result"
    }
   ],
   "source": [
    "string[-1:]"
   ]
  },
  {
   "cell_type": "code",
   "execution_count": 21,
   "id": "4ce108a3-4809-49bb-8b2d-28802a1cdbc8",
   "metadata": {},
   "outputs": [
    {
     "data": {
      "text/plain": [
       "'nce'"
      ]
     },
     "execution_count": 21,
     "metadata": {},
     "output_type": "execute_result"
    }
   ],
   "source": [
    "string[-3:]"
   ]
  },
  {
   "cell_type": "code",
   "execution_count": 23,
   "id": "af422f7a-ff98-4458-9e45-00715eb6b79e",
   "metadata": {},
   "outputs": [
    {
     "data": {
      "text/plain": [
       "'Scie'"
      ]
     },
     "execution_count": 23,
     "metadata": {},
     "output_type": "execute_result"
    }
   ],
   "source": [
    "string[-7:-3]"
   ]
  },
  {
   "cell_type": "code",
   "execution_count": 24,
   "id": "89bb227e-ebae-481e-9de8-cffbc25ee5b9",
   "metadata": {},
   "outputs": [
    {
     "data": {
      "text/plain": [
       "''"
      ]
     },
     "execution_count": 24,
     "metadata": {},
     "output_type": "execute_result"
    }
   ],
   "source": [
    "string[-7:5]"
   ]
  },
  {
   "cell_type": "code",
   "execution_count": 25,
   "id": "8f82ab0a-0561-4cbe-a38e-114ae4251c00",
   "metadata": {},
   "outputs": [
    {
     "data": {
      "text/plain": [
       "''"
      ]
     },
     "execution_count": 25,
     "metadata": {},
     "output_type": "execute_result"
    }
   ],
   "source": [
    "string[7:5]"
   ]
  },
  {
   "cell_type": "code",
   "execution_count": 26,
   "id": "17cc7984-8896-4b2d-8401-9b4fc47f3d6d",
   "metadata": {},
   "outputs": [
    {
     "data": {
      "text/plain": [
       "'Pw Skills Data Scienc'"
      ]
     },
     "execution_count": 26,
     "metadata": {},
     "output_type": "execute_result"
    }
   ],
   "source": [
    "string[:-1]"
   ]
  },
  {
   "cell_type": "code",
   "execution_count": 27,
   "id": "151d5fc7-fb28-4431-84fc-bb025ff472eb",
   "metadata": {},
   "outputs": [
    {
     "data": {
      "text/plain": [
       "'Pw Skills Data Science'"
      ]
     },
     "execution_count": 27,
     "metadata": {},
     "output_type": "execute_result"
    }
   ],
   "source": [
    "string[:]"
   ]
  },
  {
   "cell_type": "code",
   "execution_count": 28,
   "id": "026f23f1-82ff-4504-a719-68a7e6a4483e",
   "metadata": {},
   "outputs": [
    {
     "data": {
      "text/plain": [
       "'osh'"
      ]
     },
     "execution_count": 28,
     "metadata": {},
     "output_type": "execute_result"
    }
   ],
   "source": [
    "name=\"Roshan\"\n",
    "name[-5:4]"
   ]
  },
  {
   "cell_type": "code",
   "execution_count": 29,
   "id": "ec6e3208-b1c5-425d-bb18-6cd627715ca5",
   "metadata": {},
   "outputs": [
    {
     "data": {
      "text/plain": [
       "'Pw Skills Data Science'"
      ]
     },
     "execution_count": 29,
     "metadata": {},
     "output_type": "execute_result"
    }
   ],
   "source": [
    "string"
   ]
  },
  {
   "cell_type": "code",
   "execution_count": 31,
   "id": "8e406faf-6b36-4be9-a09f-a716f9a8fb5b",
   "metadata": {},
   "outputs": [
    {
     "data": {
      "text/plain": [
       "'ecneicS ataD sllikS wP'"
      ]
     },
     "execution_count": 31,
     "metadata": {},
     "output_type": "execute_result"
    }
   ],
   "source": [
    "string[::-1]"
   ]
  },
  {
   "cell_type": "code",
   "execution_count": 32,
   "id": "cfd8c61b-eb68-4496-b7a3-423c21ddf4c1",
   "metadata": {},
   "outputs": [
    {
     "data": {
      "text/plain": [
       "'eniSaa liSw'"
      ]
     },
     "execution_count": 32,
     "metadata": {},
     "output_type": "execute_result"
    }
   ],
   "source": [
    "string[::-2]"
   ]
  },
  {
   "cell_type": "code",
   "execution_count": 33,
   "id": "5e3f6538-5263-4ad4-a088-40dead9b545f",
   "metadata": {},
   "outputs": [
    {
     "data": {
      "text/plain": [
       "'likS wP'"
      ]
     },
     "execution_count": 33,
     "metadata": {},
     "output_type": "execute_result"
    }
   ],
   "source": [
    "string[6::-1]"
   ]
  },
  {
   "cell_type": "code",
   "execution_count": 34,
   "id": "5826d55d-63f9-4501-a585-1d487db0588d",
   "metadata": {},
   "outputs": [
    {
     "data": {
      "text/plain": [
       "'Pw Skills Data Science'"
      ]
     },
     "execution_count": 34,
     "metadata": {},
     "output_type": "execute_result"
    }
   ],
   "source": [
    "string[::1]"
   ]
  },
  {
   "cell_type": "code",
   "execution_count": 35,
   "id": "226c1fd5-c789-47a0-b065-6906d17e55c7",
   "metadata": {},
   "outputs": [
    {
     "data": {
      "text/plain": [
       "'P klsDt cec'"
      ]
     },
     "execution_count": 35,
     "metadata": {},
     "output_type": "execute_result"
    }
   ],
   "source": [
    "string[::2]"
   ]
  },
  {
   "cell_type": "code",
   "execution_count": 36,
   "id": "1d4e6618-1854-40da-9e48-cdcf1d33b523",
   "metadata": {},
   "outputs": [
    {
     "data": {
      "text/plain": [
       "'Roshan'"
      ]
     },
     "execution_count": 36,
     "metadata": {},
     "output_type": "execute_result"
    }
   ],
   "source": [
    "name"
   ]
  },
  {
   "cell_type": "code",
   "execution_count": 37,
   "id": "bcf40446-bedd-4073-8d80-c25afb575bc0",
   "metadata": {},
   "outputs": [
    {
     "data": {
      "text/plain": [
       "'nahsoR'"
      ]
     },
     "execution_count": 37,
     "metadata": {},
     "output_type": "execute_result"
    }
   ],
   "source": [
    "name[::-1]"
   ]
  },
  {
   "cell_type": "code",
   "execution_count": 38,
   "id": "8aa8b443-bd27-4e29-af7d-40e0e35ec4fd",
   "metadata": {},
   "outputs": [
    {
     "data": {
      "text/plain": [
       "'Roshan'"
      ]
     },
     "execution_count": 38,
     "metadata": {},
     "output_type": "execute_result"
    }
   ],
   "source": [
    "name[::1]"
   ]
  },
  {
   "cell_type": "code",
   "execution_count": 39,
   "id": "bad32794-40bd-4ad8-8c3a-4ede0630936b",
   "metadata": {},
   "outputs": [
    {
     "data": {
      "text/plain": [
       "'Rh'"
      ]
     },
     "execution_count": 39,
     "metadata": {},
     "output_type": "execute_result"
    }
   ],
   "source": [
    "name[::3]"
   ]
  },
  {
   "cell_type": "code",
   "execution_count": 40,
   "id": "5e3eea9e-6889-4b08-ab9b-61d5f88de5a1",
   "metadata": {},
   "outputs": [
    {
     "data": {
      "text/plain": [
       "'ns'"
      ]
     },
     "execution_count": 40,
     "metadata": {},
     "output_type": "execute_result"
    }
   ],
   "source": [
    "name[::-3]"
   ]
  },
  {
   "cell_type": "code",
   "execution_count": 42,
   "id": "b2fcc40c-c9aa-4f68-980d-8a91f76628db",
   "metadata": {},
   "outputs": [
    {
     "data": {
      "text/plain": [
       "'ahsoR'"
      ]
     },
     "execution_count": 42,
     "metadata": {},
     "output_type": "execute_result"
    }
   ],
   "source": [
    "name[4::-1]"
   ]
  },
  {
   "cell_type": "code",
   "execution_count": 44,
   "id": "8ca29ccc-4049-42a9-8c93-edf2fe6e7937",
   "metadata": {},
   "outputs": [
    {
     "data": {
      "text/plain": [
       "'hs'"
      ]
     },
     "execution_count": 44,
     "metadata": {},
     "output_type": "execute_result"
    }
   ],
   "source": [
    "name[3:1:-1]"
   ]
  },
  {
   "cell_type": "code",
   "execution_count": 45,
   "id": "951406c6-c806-491d-b90c-984a2d243e96",
   "metadata": {},
   "outputs": [],
   "source": [
    "course_name=\"Data Science Masters\""
   ]
  },
  {
   "cell_type": "code",
   "execution_count": 47,
   "id": "d40ecdeb-8de3-491a-9781-f096db24a9d1",
   "metadata": {},
   "outputs": [
    {
     "data": {
      "text/plain": [
       "'Science'"
      ]
     },
     "execution_count": 47,
     "metadata": {},
     "output_type": "execute_result"
    }
   ],
   "source": [
    "course_name[5:12]"
   ]
  },
  {
   "cell_type": "code",
   "execution_count": 53,
   "id": "25f96f76-b494-4b10-a56c-89cbd7e724e2",
   "metadata": {},
   "outputs": [
    {
     "data": {
      "text/plain": [
       "'ecneicS'"
      ]
     },
     "execution_count": 53,
     "metadata": {},
     "output_type": "execute_result"
    }
   ],
   "source": [
    "course_name[-9:-16:-1]"
   ]
  },
  {
   "cell_type": "code",
   "execution_count": 54,
   "id": "497ef1c6-4cab-4c1a-a333-3bbd56e4d254",
   "metadata": {},
   "outputs": [
    {
     "data": {
      "text/plain": [
       "'ecneicS'"
      ]
     },
     "execution_count": 54,
     "metadata": {},
     "output_type": "execute_result"
    }
   ],
   "source": [
    "course_name[11:4:-1]"
   ]
  },
  {
   "cell_type": "code",
   "execution_count": 56,
   "id": "ea0bb824-a480-45a6-8ef1-1e7325756f24",
   "metadata": {},
   "outputs": [
    {
     "data": {
      "text/plain": [
       "'Data Science MastersCourses'"
      ]
     },
     "execution_count": 56,
     "metadata": {},
     "output_type": "execute_result"
    }
   ],
   "source": [
    "##  CONCATENATION Operation :-The act of joining two or more strings together by '+' sign.\n",
    "course_name + \"Courses\""
   ]
  },
  {
   "cell_type": "code",
   "execution_count": 57,
   "id": "5a6edc49-489a-4b31-825c-0c443feb13c2",
   "metadata": {},
   "outputs": [
    {
     "name": "stdout",
     "output_type": "stream",
     "text": [
      "HellowWorld\n"
     ]
    }
   ],
   "source": [
    "print(\"Hellow\" + \"World\")"
   ]
  },
  {
   "cell_type": "code",
   "execution_count": 58,
   "id": "1b064a50-2280-4930-843e-88c7c0da9250",
   "metadata": {},
   "outputs": [
    {
     "data": {
      "text/plain": [
       "'Data Science MastersData Science MastersData Science MastersData Science MastersData Science Masters'"
      ]
     },
     "execution_count": 58,
     "metadata": {},
     "output_type": "execute_result"
    }
   ],
   "source": [
    "course_name*5"
   ]
  },
  {
   "cell_type": "code",
   "execution_count": 59,
   "id": "5bdb0d6e-7aa7-4d8e-aa36-8aab72ea0126",
   "metadata": {},
   "outputs": [
    {
     "data": {
      "text/plain": [
       "20"
      ]
     },
     "execution_count": 59,
     "metadata": {},
     "output_type": "execute_result"
    }
   ],
   "source": [
    "len(course_name)"
   ]
  },
  {
   "cell_type": "code",
   "execution_count": 60,
   "id": "e30613b8-6f95-423e-a6ba-b0d51453c9f8",
   "metadata": {},
   "outputs": [
    {
     "data": {
      "text/plain": [
       "9"
      ]
     },
     "execution_count": 60,
     "metadata": {},
     "output_type": "execute_result"
    }
   ],
   "source": [
    "## Find Function\n",
    "course_name.find(\"n\")\n"
   ]
  },
  {
   "cell_type": "code",
   "execution_count": 61,
   "id": "9400ef05-1fdf-4988-b2f5-9a9ba5bb4dee",
   "metadata": {},
   "outputs": [
    {
     "data": {
      "text/plain": [
       "1"
      ]
     },
     "execution_count": 61,
     "metadata": {},
     "output_type": "execute_result"
    }
   ],
   "source": [
    "course_name.find(\"a\")"
   ]
  },
  {
   "cell_type": "code",
   "execution_count": 62,
   "id": "d605da68-c430-4dba-ad49-fd90bfa403cf",
   "metadata": {},
   "outputs": [
    {
     "data": {
      "text/plain": [
       "3"
      ]
     },
     "execution_count": 62,
     "metadata": {},
     "output_type": "execute_result"
    }
   ],
   "source": [
    "course_name.find(\"a\",2,10)"
   ]
  },
  {
   "cell_type": "code",
   "execution_count": 66,
   "id": "4e40a80b-9637-43a6-bbe1-0446d6323ec1",
   "metadata": {},
   "outputs": [
    {
     "data": {
      "text/plain": [
       "'Data Science Masters'"
      ]
     },
     "execution_count": 66,
     "metadata": {},
     "output_type": "execute_result"
    }
   ],
   "source": [
    "course_name"
   ]
  },
  {
   "cell_type": "code",
   "execution_count": 64,
   "id": "3bc5f016-b068-46cb-a80e-c476fce01ead",
   "metadata": {},
   "outputs": [
    {
     "data": {
      "text/plain": [
       "-1"
      ]
     },
     "execution_count": 64,
     "metadata": {},
     "output_type": "execute_result"
    }
   ],
   "source": [
    "course_name.find(\"z\")"
   ]
  },
  {
   "cell_type": "code",
   "execution_count": 65,
   "id": "299e1b8c-7e0d-4b26-9590-99961662e4e1",
   "metadata": {},
   "outputs": [
    {
     "data": {
      "text/plain": [
       "3"
      ]
     },
     "execution_count": 65,
     "metadata": {},
     "output_type": "execute_result"
    }
   ],
   "source": [
    "## Count Function\n",
    "course_name.count(\"a\")"
   ]
  },
  {
   "cell_type": "code",
   "execution_count": 70,
   "id": "5343eefa-68c5-4c9f-b66f-96eddaa7c12e",
   "metadata": {},
   "outputs": [
    {
     "data": {
      "text/plain": [
       "2"
      ]
     },
     "execution_count": 70,
     "metadata": {},
     "output_type": "execute_result"
    }
   ],
   "source": [
    "course_name.count(' ')"
   ]
  },
  {
   "cell_type": "code",
   "execution_count": 71,
   "id": "9b3794d6-8314-4e29-a5fa-aefd53e9cb57",
   "metadata": {},
   "outputs": [
    {
     "data": {
      "text/plain": [
       "1"
      ]
     },
     "execution_count": 71,
     "metadata": {},
     "output_type": "execute_result"
    }
   ],
   "source": [
    "course_name.count(\"a\",2,10)"
   ]
  },
  {
   "cell_type": "code",
   "execution_count": 77,
   "id": "6ba58dba-15f5-47f6-af61-6610f4ada816",
   "metadata": {},
   "outputs": [
    {
     "data": {
      "text/plain": [
       "['Data Science Ma', 'ter', '']"
      ]
     },
     "execution_count": 77,
     "metadata": {},
     "output_type": "execute_result"
    }
   ],
   "source": [
    "course_name.split('s')"
   ]
  },
  {
   "cell_type": "code",
   "execution_count": 72,
   "id": "6021a829-f695-4572-83ad-211304e35172",
   "metadata": {},
   "outputs": [],
   "source": [
    "## String Solitp Funtion\n"
   ]
  },
  {
   "cell_type": "code",
   "execution_count": 73,
   "id": "68609add-532a-4485-9199-97eb6567c653",
   "metadata": {},
   "outputs": [
    {
     "data": {
      "text/plain": [
       "['Data', 'Science', 'Masters']"
      ]
     },
     "execution_count": 73,
     "metadata": {},
     "output_type": "execute_result"
    }
   ],
   "source": [
    "course_name.split(' ')"
   ]
  },
  {
   "cell_type": "code",
   "execution_count": 74,
   "id": "3e31b6e8-6fb6-4e84-8497-b6dd00486c56",
   "metadata": {},
   "outputs": [
    {
     "data": {
      "text/plain": [
       "['Data ', 'cience Masters']"
      ]
     },
     "execution_count": 74,
     "metadata": {},
     "output_type": "execute_result"
    }
   ],
   "source": [
    "course_name.split('S')"
   ]
  },
  {
   "cell_type": "code",
   "execution_count": 76,
   "id": "9b9ede4a-d21c-4b35-9939-a5d774d6b173",
   "metadata": {},
   "outputs": [
    {
     "data": {
      "text/plain": [
       "('Data ', 'S', 'cience Masters')"
      ]
     },
     "execution_count": 76,
     "metadata": {},
     "output_type": "execute_result"
    }
   ],
   "source": [
    "course_name.partition('S')"
   ]
  },
  {
   "cell_type": "code",
   "execution_count": 78,
   "id": "e8d9ec6a-d0a0-4ee7-a9a0-7700e39c1e2a",
   "metadata": {},
   "outputs": [
    {
     "data": {
      "text/plain": [
       "('Data Science Ma', 's', 'ters')"
      ]
     },
     "execution_count": 78,
     "metadata": {},
     "output_type": "execute_result"
    }
   ],
   "source": [
    "course_name.partition('s')"
   ]
  },
  {
   "cell_type": "code",
   "execution_count": 79,
   "id": "b118766e-7216-480c-b81b-d152ec4cd857",
   "metadata": {},
   "outputs": [],
   "source": [
    "## String Upper and Lowercase Function"
   ]
  },
  {
   "cell_type": "code",
   "execution_count": 80,
   "id": "d38adfe6-b5b5-4523-8172-c13c3f8ecfd0",
   "metadata": {},
   "outputs": [
    {
     "data": {
      "text/plain": [
       "'DATA SCIENCE MASTERS'"
      ]
     },
     "execution_count": 80,
     "metadata": {},
     "output_type": "execute_result"
    }
   ],
   "source": [
    "course_name.upper()"
   ]
  },
  {
   "cell_type": "code",
   "execution_count": 81,
   "id": "145eedbf-41d8-4159-8180-953a9b52cffd",
   "metadata": {},
   "outputs": [
    {
     "data": {
      "text/plain": [
       "'data science masters'"
      ]
     },
     "execution_count": 81,
     "metadata": {},
     "output_type": "execute_result"
    }
   ],
   "source": [
    "course_name.lower()"
   ]
  },
  {
   "cell_type": "code",
   "execution_count": 82,
   "id": "6dc52188-9b17-4ea2-b0d7-0563aa719dc1",
   "metadata": {},
   "outputs": [
    {
     "data": {
      "text/plain": [
       "'Data Science Masters'"
      ]
     },
     "execution_count": 82,
     "metadata": {},
     "output_type": "execute_result"
    }
   ],
   "source": [
    "course_name"
   ]
  },
  {
   "cell_type": "code",
   "execution_count": 83,
   "id": "613187bd-b67d-4d75-a46f-145199da7385",
   "metadata": {},
   "outputs": [
    {
     "data": {
      "text/plain": [
       "'dATA sCIENCE mASTERS'"
      ]
     },
     "execution_count": 83,
     "metadata": {},
     "output_type": "execute_result"
    }
   ],
   "source": [
    "course_name.swapcase()"
   ]
  },
  {
   "cell_type": "code",
   "execution_count": 85,
   "id": "1d9be6d8-79cb-4f95-96bc-854bd33c2491",
   "metadata": {},
   "outputs": [
    {
     "data": {
      "text/plain": [
       "'Data Science Masters'"
      ]
     },
     "execution_count": 85,
     "metadata": {},
     "output_type": "execute_result"
    }
   ],
   "source": [
    "course_name.title()"
   ]
  },
  {
   "cell_type": "code",
   "execution_count": null,
   "id": "1cf241f4-652a-48f8-b9c4-8001d0ad5501",
   "metadata": {},
   "outputs": [],
   "source": []
  }
 ],
 "metadata": {
  "kernelspec": {
   "display_name": "Python 3 (ipykernel)",
   "language": "python",
   "name": "python3"
  },
  "language_info": {
   "codemirror_mode": {
    "name": "ipython",
    "version": 3
   },
   "file_extension": ".py",
   "mimetype": "text/x-python",
   "name": "python",
   "nbconvert_exporter": "python",
   "pygments_lexer": "ipython3",
   "version": "3.10.8"
  }
 },
 "nbformat": 4,
 "nbformat_minor": 5
}
