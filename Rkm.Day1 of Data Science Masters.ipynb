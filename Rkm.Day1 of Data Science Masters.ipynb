{
 "cells": [
  {
   "cell_type": "markdown",
   "id": "e8d4607a-4515-4fa7-a14d-e7c57c0a9da2",
   "metadata": {},
   "source": [
    "## Day1 of Data Science Masters"
   ]
  },
  {
   "cell_type": "code",
   "execution_count": 1,
   "id": "963e4c7c-b562-476c-a91b-8747a48b397f",
   "metadata": {},
   "outputs": [],
   "source": [
    "a=10"
   ]
  },
  {
   "cell_type": "code",
   "execution_count": 2,
   "id": "7bc2c516-9148-41e9-9ae7-cce6864a00e8",
   "metadata": {},
   "outputs": [
    {
     "data": {
      "text/plain": [
       "10"
      ]
     },
     "execution_count": 2,
     "metadata": {},
     "output_type": "execute_result"
    }
   ],
   "source": [
    "a"
   ]
  },
  {
   "cell_type": "code",
   "execution_count": 4,
   "id": "e47330d4-d69d-44bc-9bef-dc287d176c7c",
   "metadata": {},
   "outputs": [
    {
     "data": {
      "text/plain": [
       "22"
      ]
     },
     "execution_count": 4,
     "metadata": {},
     "output_type": "execute_result"
    }
   ],
   "source": [
    "## this is examples of single line comments\n",
    "r=22\n",
    "r"
   ]
  },
  {
   "cell_type": "code",
   "execution_count": 7,
   "id": "11c37102-fc97-438f-9b81-c6ff1414d432",
   "metadata": {},
   "outputs": [],
   "source": [
    "\"\"\" This is example of multiline comments \n",
    "This is example of multiline comments\n",
    "This is example of multiline comments\"\"\"\n",
    "k=30"
   ]
  },
  {
   "cell_type": "code",
   "execution_count": 8,
   "id": "4c492855-4e4c-4689-ac74-8320b69e5a76",
   "metadata": {},
   "outputs": [
    {
     "data": {
      "text/plain": [
       "30"
      ]
     },
     "execution_count": 8,
     "metadata": {},
     "output_type": "execute_result"
    }
   ],
   "source": [
    "k"
   ]
  },
  {
   "cell_type": "code",
   "execution_count": 9,
   "id": "8d5a7860-de0a-4ac3-bd6a-d2c47a005288",
   "metadata": {},
   "outputs": [],
   "source": [
    "## Markdown is use for writting tittle , Deadline,Discription etc."
   ]
  },
  {
   "cell_type": "markdown",
   "id": "40b5ed82-6434-4a0e-bb0e-da8db858d692",
   "metadata": {},
   "source": [
    "# Rosha Kumar Mandal _ future Data Scientist\n",
    "## Roshan Kumar Mandal _Future Data Scientist\n",
    "### Roshan Kumar Mandal_future Data Scientist"
   ]
  },
  {
   "cell_type": "code",
   "execution_count": 11,
   "id": "c90b268e-56dc-4c62-9169-7580376940db",
   "metadata": {},
   "outputs": [],
   "source": [
    "## for creating multiples cells _ first press Esc then a as much you have requited"
   ]
  },
  {
   "cell_type": "markdown",
   "id": "75e2bfdb-22ae-459d-94b6-3838dd203a6d",
   "metadata": {},
   "source": [
    "# Numbers"
   ]
  },
  {
   "cell_type": "code",
   "execution_count": 12,
   "id": "8cf5ffdb-4dd3-4acb-985a-f77b4e6814f1",
   "metadata": {},
   "outputs": [
    {
     "data": {
      "text/plain": [
       "4"
      ]
     },
     "execution_count": 12,
     "metadata": {},
     "output_type": "execute_result"
    }
   ],
   "source": [
    "1+3"
   ]
  },
  {
   "cell_type": "code",
   "execution_count": 13,
   "id": "4940cd12-fa07-46a3-b5e8-16d0d1686c7a",
   "metadata": {},
   "outputs": [
    {
     "name": "stdout",
     "output_type": "stream",
     "text": [
      "4\n"
     ]
    }
   ],
   "source": [
    "print(1+3)"
   ]
  },
  {
   "cell_type": "markdown",
   "id": "b349a921-6c81-4438-aae1-9502f5e2f941",
   "metadata": {},
   "source": [
    "### Basic Print Statements"
   ]
  },
  {
   "cell_type": "code",
   "execution_count": 14,
   "id": "ddbafd4f-780d-4cc3-85b8-60432d3eb203",
   "metadata": {},
   "outputs": [
    {
     "name": "stdout",
     "output_type": "stream",
     "text": [
      "Hello World\n"
     ]
    }
   ],
   "source": [
    "print(\"Hello World\")"
   ]
  },
  {
   "cell_type": "code",
   "execution_count": 15,
   "id": "96a8c2fc-a9df-43ca-9c5c-fd80924d99f9",
   "metadata": {},
   "outputs": [
    {
     "name": "stdout",
     "output_type": "stream",
     "text": [
      "Hello World My name is Roshan I have been learning Data Science Masters with PW Skills\n"
     ]
    }
   ],
   "source": [
    "print(\"Hello World My name is Roshan I have been learning Data Science Masters with PW Skills\")"
   ]
  },
  {
   "cell_type": "code",
   "execution_count": 17,
   "id": "d5d7a55c-effa-4f63-b9a1-080d494624cb",
   "metadata": {},
   "outputs": [
    {
     "name": "stdout",
     "output_type": "stream",
     "text": [
      "Hello World My name is Roshan \n",
      " I have been learning Data Science Masters \n",
      " with PW Skills\n"
     ]
    }
   ],
   "source": [
    "print(\"Hello World My name is Roshan \\n I have been learning Data Science Masters \\n with PW Skills\")"
   ]
  },
  {
   "cell_type": "code",
   "execution_count": 18,
   "id": "b1c07568-0ed7-46a2-8021-4d10c5c214f6",
   "metadata": {},
   "outputs": [
    {
     "name": "stdout",
     "output_type": "stream",
     "text": [
      " Hello World My name is Roshan Kumar Mandal\n",
      "I have been learnin Data Science Masters \n",
      "BY Krish Niak Sir and Sudhanshu Sir \n"
     ]
    }
   ],
   "source": [
    "print(\"\"\" Hello World My name is Roshan Kumar Mandal\n",
    "I have been learnin Data Science Masters \n",
    "BY Krish Niak Sir and Sudhanshu Sir \"\"\")"
   ]
  },
  {
   "cell_type": "markdown",
   "id": "7c213480-4a24-4e04-8b8e-2319fac919bd",
   "metadata": {},
   "source": [
    "### Variables Assignment"
   ]
  },
  {
   "cell_type": "code",
   "execution_count": 19,
   "id": "2b86d028-3ef1-4fe1-a579-80da6b439c07",
   "metadata": {},
   "outputs": [],
   "source": [
    "name=\"Roshan Mandal\"\n",
    "skills=\"Data Science Masters\""
   ]
  },
  {
   "cell_type": "code",
   "execution_count": 24,
   "id": "362e2870-eacd-48d4-8b82-706e58b0d98b",
   "metadata": {},
   "outputs": [
    {
     "data": {
      "text/plain": [
       "''"
      ]
     },
     "execution_count": 24,
     "metadata": {},
     "output_type": "execute_result"
    }
   ],
   "source": [
    "\"\""
   ]
  },
  {
   "cell_type": "code",
   "execution_count": 25,
   "id": "96cf3e86-91fe-47b6-8023-7e88fefae932",
   "metadata": {},
   "outputs": [
    {
     "data": {
      "text/plain": [
       "str"
      ]
     },
     "execution_count": 25,
     "metadata": {},
     "output_type": "execute_result"
    }
   ],
   "source": [
    "type(\"\")"
   ]
  },
  {
   "cell_type": "code",
   "execution_count": 26,
   "id": "b44c4175-77e8-44a3-a224-6dcf09cf2ad3",
   "metadata": {},
   "outputs": [
    {
     "data": {
      "text/plain": [
       "str"
      ]
     },
     "execution_count": 26,
     "metadata": {},
     "output_type": "execute_result"
    }
   ],
   "source": [
    "type(\"name\")"
   ]
  },
  {
   "cell_type": "code",
   "execution_count": 20,
   "id": "1cf9109b-fc7b-4ad1-b91d-2b5165e72f53",
   "metadata": {},
   "outputs": [
    {
     "data": {
      "text/plain": [
       "'Roshan Mandal'"
      ]
     },
     "execution_count": 20,
     "metadata": {},
     "output_type": "execute_result"
    }
   ],
   "source": [
    "name"
   ]
  },
  {
   "cell_type": "code",
   "execution_count": 21,
   "id": "d23cc96b-7e6c-48e7-819f-b625e7b0dbae",
   "metadata": {},
   "outputs": [
    {
     "data": {
      "text/plain": [
       "'Data Science Masters'"
      ]
     },
     "execution_count": 21,
     "metadata": {},
     "output_type": "execute_result"
    }
   ],
   "source": [
    "skills"
   ]
  },
  {
   "cell_type": "code",
   "execution_count": 22,
   "id": "8055f4b6-2e00-4368-be4f-79ce7493df03",
   "metadata": {},
   "outputs": [],
   "source": [
    "name=\"Roshan Kumar Mandal\""
   ]
  },
  {
   "cell_type": "code",
   "execution_count": 23,
   "id": "ec12cf50-d1f6-4062-bd20-adcc2a0540f2",
   "metadata": {},
   "outputs": [
    {
     "data": {
      "text/plain": [
       "'Roshan Kumar Mandal'"
      ]
     },
     "execution_count": 23,
     "metadata": {},
     "output_type": "execute_result"
    }
   ],
   "source": [
    "name"
   ]
  },
  {
   "cell_type": "code",
   "execution_count": 27,
   "id": "4042b604-a6c1-469f-a677-17c8454a6ba4",
   "metadata": {},
   "outputs": [],
   "source": [
    "decimal_num=2.5"
   ]
  },
  {
   "cell_type": "code",
   "execution_count": 28,
   "id": "0f89292d-0d82-48ee-9734-7ad77bd981c9",
   "metadata": {},
   "outputs": [
    {
     "data": {
      "text/plain": [
       "2.5"
      ]
     },
     "execution_count": 28,
     "metadata": {},
     "output_type": "execute_result"
    }
   ],
   "source": [
    "decimal_num"
   ]
  },
  {
   "cell_type": "code",
   "execution_count": 29,
   "id": "fb09cb82-df87-4ebb-85b4-086f22c44760",
   "metadata": {},
   "outputs": [
    {
     "data": {
      "text/plain": [
       "float"
      ]
     },
     "execution_count": 29,
     "metadata": {},
     "output_type": "execute_result"
    }
   ],
   "source": [
    "type(decimal_num)"
   ]
  },
  {
   "cell_type": "code",
   "execution_count": 32,
   "id": "fde6c3f7-1fb6-4c52-938f-58385b526f99",
   "metadata": {},
   "outputs": [],
   "source": [
    "c=1+8j"
   ]
  },
  {
   "cell_type": "code",
   "execution_count": 33,
   "id": "ec7fe76f-983c-4bf8-9540-3dd01a3e1db7",
   "metadata": {},
   "outputs": [
    {
     "data": {
      "text/plain": [
       "(1+8j)"
      ]
     },
     "execution_count": 33,
     "metadata": {},
     "output_type": "execute_result"
    }
   ],
   "source": [
    "c"
   ]
  },
  {
   "cell_type": "code",
   "execution_count": 34,
   "id": "5b78636e-9701-4110-a3f8-58c2386c8d9e",
   "metadata": {},
   "outputs": [
    {
     "data": {
      "text/plain": [
       "complex"
      ]
     },
     "execution_count": 34,
     "metadata": {},
     "output_type": "execute_result"
    }
   ],
   "source": [
    "type(c)"
   ]
  },
  {
   "cell_type": "code",
   "execution_count": 49,
   "id": "71f4f322-a91f-41d2-a14c-69140e458dee",
   "metadata": {},
   "outputs": [],
   "source": [
    "## Bad way_don't star the variable with numbers\n"
   ]
  },
  {
   "cell_type": "code",
   "execution_count": null,
   "id": "2c0b979c-7cb9-4e61-978f-48b5ce20ab3c",
   "metadata": {},
   "outputs": [],
   "source": [
    "number1=123"
   ]
  },
  {
   "cell_type": "code",
   "execution_count": 37,
   "id": "c5b17be5-daea-40ae-9eac-873ddd26953b",
   "metadata": {},
   "outputs": [
    {
     "name": "stdout",
     "output_type": "stream",
     "text": [
      "roshan kumar mandal\n",
      "Roshan Kumar Mandal\n"
     ]
    }
   ],
   "source": [
    "name=\"roshan kumar mandal\"\n",
    "Name=\"Roshan Kumar Mandal\"\n",
    "print(name)\n",
    "print(Name)"
   ]
  },
  {
   "cell_type": "markdown",
   "id": "e73b0b72-f648-439e-bec2-ff80dfe3802e",
   "metadata": {},
   "source": [
    "## Boolian_True/False"
   ]
  },
  {
   "cell_type": "code",
   "execution_count": 39,
   "id": "75c723fc-3eb5-4648-97b4-b793d842d40c",
   "metadata": {},
   "outputs": [
    {
     "data": {
      "text/plain": [
       "True"
      ]
     },
     "execution_count": 39,
     "metadata": {},
     "output_type": "execute_result"
    }
   ],
   "source": [
    "True"
   ]
  },
  {
   "cell_type": "code",
   "execution_count": 40,
   "id": "30a5703d-808b-4845-a62e-10022c8a29a1",
   "metadata": {},
   "outputs": [
    {
     "data": {
      "text/plain": [
       "False"
      ]
     },
     "execution_count": 40,
     "metadata": {},
     "output_type": "execute_result"
    }
   ],
   "source": [
    "False"
   ]
  },
  {
   "cell_type": "code",
   "execution_count": 41,
   "id": "f9073079-8790-4916-bba0-d505381fed06",
   "metadata": {},
   "outputs": [
    {
     "data": {
      "text/plain": [
       "False"
      ]
     },
     "execution_count": 41,
     "metadata": {},
     "output_type": "execute_result"
    }
   ],
   "source": [
    "True and False"
   ]
  },
  {
   "cell_type": "code",
   "execution_count": 42,
   "id": "7202b946-52ff-4df6-9f95-2be6801fd26c",
   "metadata": {},
   "outputs": [
    {
     "data": {
      "text/plain": [
       "True"
      ]
     },
     "execution_count": 42,
     "metadata": {},
     "output_type": "execute_result"
    }
   ],
   "source": [
    "True or False"
   ]
  },
  {
   "cell_type": "code",
   "execution_count": 43,
   "id": "411977c4-4246-446b-b036-45c5854efaac",
   "metadata": {},
   "outputs": [
    {
     "data": {
      "text/plain": [
       "False"
      ]
     },
     "execution_count": 43,
     "metadata": {},
     "output_type": "execute_result"
    }
   ],
   "source": [
    "not True"
   ]
  },
  {
   "cell_type": "code",
   "execution_count": 44,
   "id": "53bd9c55-f239-424f-9606-cb6f3e1fdaf9",
   "metadata": {},
   "outputs": [
    {
     "data": {
      "text/plain": [
       "True"
      ]
     },
     "execution_count": 44,
     "metadata": {},
     "output_type": "execute_result"
    }
   ],
   "source": [
    "not False"
   ]
  },
  {
   "cell_type": "code",
   "execution_count": 45,
   "id": "9cddcecd-c5be-49eb-84f7-15735fa04a72",
   "metadata": {},
   "outputs": [
    {
     "data": {
      "text/plain": [
       "bool"
      ]
     },
     "execution_count": 45,
     "metadata": {},
     "output_type": "execute_result"
    }
   ],
   "source": [
    "type(True)"
   ]
  },
  {
   "cell_type": "code",
   "execution_count": 46,
   "id": "e84d2728-b854-4870-8053-a1d61d7d3b22",
   "metadata": {},
   "outputs": [
    {
     "data": {
      "text/plain": [
       "False"
      ]
     },
     "execution_count": 46,
     "metadata": {},
     "output_type": "execute_result"
    }
   ],
   "source": [
    "bool(0)"
   ]
  },
  {
   "cell_type": "code",
   "execution_count": 47,
   "id": "d76b75f3-bc9d-4371-b6dc-2ad768a87b91",
   "metadata": {},
   "outputs": [
    {
     "data": {
      "text/plain": [
       "True"
      ]
     },
     "execution_count": 47,
     "metadata": {},
     "output_type": "execute_result"
    }
   ],
   "source": [
    "bool(1)"
   ]
  },
  {
   "cell_type": "code",
   "execution_count": 48,
   "id": "5307609e-6811-4d7c-a647-dbb484ca15ca",
   "metadata": {},
   "outputs": [
    {
     "name": "stdout",
     "output_type": "stream",
     "text": [
      "Data Scientist\n"
     ]
    }
   ],
   "source": [
    "a=1\n",
    "if bool(a)==True:\n",
    "    print(\"Data Scientist\")"
   ]
  },
  {
   "cell_type": "code",
   "execution_count": 50,
   "id": "0ebd614d-db0f-4fc1-97cd-5ca73fc7c75c",
   "metadata": {},
   "outputs": [
    {
     "data": {
      "text/plain": [
       "'23'"
      ]
     },
     "execution_count": 50,
     "metadata": {},
     "output_type": "execute_result"
    }
   ],
   "source": [
    "str(23)"
   ]
  },
  {
   "cell_type": "code",
   "execution_count": 51,
   "id": "9f7eeb82-bf8e-41be-abfd-8a1c6d2e59d4",
   "metadata": {},
   "outputs": [
    {
     "data": {
      "text/plain": [
       "23"
      ]
     },
     "execution_count": 51,
     "metadata": {},
     "output_type": "execute_result"
    }
   ],
   "source": [
    "int(\"23\")"
   ]
  },
  {
   "cell_type": "code",
   "execution_count": 52,
   "id": "e7b8fbc4-df83-410b-9abf-7841f4847b9c",
   "metadata": {},
   "outputs": [
    {
     "data": {
      "text/plain": [
       "int"
      ]
     },
     "execution_count": 52,
     "metadata": {},
     "output_type": "execute_result"
    }
   ],
   "source": [
    "type(int(\"23\"))"
   ]
  },
  {
   "cell_type": "markdown",
   "id": "6058ec3e-f743-42c1-9873-fd650a96a10b",
   "metadata": {},
   "source": [
    "## Dynamic Typing"
   ]
  },
  {
   "cell_type": "code",
   "execution_count": 53,
   "id": "6f1b1914-cf43-49df-82b5-fb3e12bd176f",
   "metadata": {},
   "outputs": [],
   "source": [
    "a=12\n",
    "str1=\"Roshan\"\n",
    "a=\"var\""
   ]
  },
  {
   "cell_type": "code",
   "execution_count": 54,
   "id": "b52a695b-c8a2-4411-9b0a-98235ef2cdef",
   "metadata": {},
   "outputs": [
    {
     "name": "stdout",
     "output_type": "stream",
     "text": [
      "<class 'str'>\n"
     ]
    }
   ],
   "source": [
    "print(type(a))"
   ]
  },
  {
   "cell_type": "code",
   "execution_count": 55,
   "id": "e0bb3592-6966-41b1-a04e-1eb79a0ce890",
   "metadata": {},
   "outputs": [
    {
     "data": {
      "text/plain": [
       "1"
      ]
     },
     "execution_count": 55,
     "metadata": {},
     "output_type": "execute_result"
    }
   ],
   "source": [
    "int(1.54)"
   ]
  },
  {
   "cell_type": "code",
   "execution_count": 56,
   "id": "7df8ffa4-0ce2-47ed-8230-2c45265f24b7",
   "metadata": {},
   "outputs": [],
   "source": [
    "## concatenation between differen types"
   ]
  },
  {
   "cell_type": "code",
   "execution_count": 57,
   "id": "eb34afab-e297-4cbe-bdc2-e19ea5bf5f5c",
   "metadata": {},
   "outputs": [
    {
     "data": {
      "text/plain": [
       "'11'"
      ]
     },
     "execution_count": 57,
     "metadata": {},
     "output_type": "execute_result"
    }
   ],
   "source": [
    "\"1\"+\"1\""
   ]
  },
  {
   "cell_type": "code",
   "execution_count": 58,
   "id": "5e1f36d9-bb5b-4ba5-9009-48c186f7d6ab",
   "metadata": {},
   "outputs": [
    {
     "data": {
      "text/plain": [
       "2"
      ]
     },
     "execution_count": 58,
     "metadata": {},
     "output_type": "execute_result"
    }
   ],
   "source": [
    "int(\"1\")+int(\"1\")"
   ]
  },
  {
   "cell_type": "code",
   "execution_count": 59,
   "id": "9fb6e224-504c-4481-bfb3-5268b27ae1be",
   "metadata": {},
   "outputs": [
    {
     "data": {
      "text/plain": [
       "'1111111111111111111111111111111111111111111111111111111111111111111111111111111111111111111111111111'"
      ]
     },
     "execution_count": 59,
     "metadata": {},
     "output_type": "execute_result"
    }
   ],
   "source": [
    "\"1\"*100"
   ]
  },
  {
   "cell_type": "code",
   "execution_count": null,
   "id": "819dd240-a87e-457a-8c35-b2ce7e115439",
   "metadata": {},
   "outputs": [],
   "source": []
  }
 ],
 "metadata": {
  "kernelspec": {
   "display_name": "Python 3 (ipykernel)",
   "language": "python",
   "name": "python3"
  },
  "language_info": {
   "codemirror_mode": {
    "name": "ipython",
    "version": 3
   },
   "file_extension": ".py",
   "mimetype": "text/x-python",
   "name": "python",
   "nbconvert_exporter": "python",
   "pygments_lexer": "ipython3",
   "version": "3.10.8"
  }
 },
 "nbformat": 4,
 "nbformat_minor": 5
}
